{
 "cells": [
  {
   "cell_type": "code",
   "execution_count": 1,
   "metadata": {},
   "outputs": [],
   "source": [
    "import pandas as pd\n",
    "import os"
   ]
  },
  {
   "cell_type": "code",
   "execution_count": 5,
   "metadata": {},
   "outputs": [],
   "source": [
    "SOURCE_FILE_NAME = \"MB_2016_VIC.csv\"\n",
    "REQUIRED_ATTS = [\n",
    "    \"SA1_MAINCODE_2016\", # Match with the 'HomeSA1' in the household file\n",
    "    \"SA1_7DIGITCODE_2016\", \n",
    "    \"SA2_NAME_2016\", # Match with the 'HomeSA2' in the household file\n",
    "    \"SA2_MAINCODE_2016\",\n",
    "    \"SA3_NAME_2016\", # Match with the 'HomeSA3' in the household file\n",
    "    \"SA3_CODE_2016\",\n",
    "    \"SA4_NAME_2016\", # Match with \"HomeSA4\"\n",
    "    \"SA4_CODE_2016\",\n",
    "    \"STATE_CODE_2016\"\n",
    "]"
   ]
  },
  {
   "cell_type": "code",
   "execution_count": 6,
   "metadata": {},
   "outputs": [],
   "source": [
    "geo_df = pd.read_csv('inputs/melbourne/geography/MB_2016_VIC.csv')\n",
    "\n",
    "# generate the geo cross walk \n",
    "final_df = geo_df[REQUIRED_ATTS]\n",
    "final_df = final_df.drop_duplicates()"
   ]
  },
  {
   "cell_type": "code",
   "execution_count": 8,
   "metadata": {},
   "outputs": [],
   "source": [
    "final_df.to_csv(os.path.join('outputs/', \"geo_cross_walk.csv\"), index=False)"
   ]
  },
  {
   "cell_type": "code",
   "execution_count": null,
   "metadata": {},
   "outputs": [],
   "source": []
  }
 ],
 "metadata": {
  "kernelspec": {
   "display_name": "Python 3 (ipykernel)",
   "language": "python",
   "name": "python3"
  },
  "language_info": {
   "codemirror_mode": {
    "name": "ipython",
    "version": 3
   },
   "file_extension": ".py",
   "mimetype": "text/x-python",
   "name": "python",
   "nbconvert_exporter": "python",
   "pygments_lexer": "ipython3",
   "version": "3.10.6"
  },
  "vscode": {
   "interpreter": {
    "hash": "b5ce158c5ae8cac738d145ab2a998f3ae76517efee1fbfe648ad158109b6bf4d"
   }
  }
 },
 "nbformat": 4,
 "nbformat_minor": 2
}
