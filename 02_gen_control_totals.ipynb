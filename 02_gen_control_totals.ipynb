{
 "cells": [
  {
   "cell_type": "code",
   "execution_count": 1,
   "id": "1fd2f882",
   "metadata": {},
   "outputs": [],
   "source": [
    "import pandas as pd\n",
    "import geopandas as gpd"
   ]
  },
  {
   "cell_type": "code",
   "execution_count": 2,
   "id": "94b017f4",
   "metadata": {},
   "outputs": [],
   "source": [
    "area_lev = 'SA4'"
   ]
  },
  {
   "cell_type": "code",
   "execution_count": 3,
   "id": "1b13c30b",
   "metadata": {},
   "outputs": [],
   "source": [
    "file_name_tot_hh = f'2016Census_G30_VIC_{area_lev}.csv' #hh, vel\n",
    "file_name_tot_pp = f'2016Census_G01_VIC_{area_lev}.csv' #genders, pp, age gr\n",
    "file_name_tot_work = f'2016Census_G43B_VIC_{area_lev}.csv' #work\n",
    "file_name_tot_hh2 = f'2016Census_G31_VIC_{area_lev}.csv' #hh size"
   ]
  },
  {
   "cell_type": "code",
   "execution_count": 9,
   "id": "9cfd42eb",
   "metadata": {},
   "outputs": [],
   "source": [
    "df_hh = pd.read_csv('inputs/melbourne/census/2016_census/'+area_lev+'/VIC/'+file_name_tot_hh)\n",
    "df_hh2 = pd.read_csv('inputs/melbourne/census/2016_census/'+area_lev+'/VIC/'+file_name_tot_hh2)\n",
    "df_pp = pd.read_csv('inputs/melbourne/census/2016_census/'+area_lev+'/VIC/'+file_name_tot_pp)\n",
    "df_work = pd.read_csv('inputs/melbourne/census/2016_census/'+area_lev+'/VIC/'+file_name_tot_work)\n",
    "# Assuming that this position will always have the ID name\n",
    "id_name = df_hh.columns[0]"
   ]
  },
  {
   "cell_type": "code",
   "execution_count": 11,
   "id": "d5cf9601",
   "metadata": {},
   "outputs": [],
   "source": [
    "df_hh_select = df_hh[[\n",
    "        id_name, \n",
    "        'Num_MVs_per_dweling_0_MVs', \n",
    "        'Num_MVs_per_dweling_1_MVs', \n",
    "        'Num_MVs_per_dweling_2_MVs', \n",
    "        'Num_MVs_per_dweling_3_MVs', \n",
    "        'Num_MVs_per_dweling_4mo_MVs', \n",
    "        'Num_MVs_NS', \n",
    "        'Total_dwelings'\n",
    "        ]]\n",
    "df_hh_select2 = df_hh2[[\n",
    "        id_name, \n",
    "        'Num_Psns_UR_1_Total',\n",
    "        'Num_Psns_UR_2_Total',\n",
    "        'Num_Psns_UR_3_Total',\n",
    "        'Num_Psns_UR_4_Total',\n",
    "        'Num_Psns_UR_5_Total',\n",
    "        'Num_Psns_UR_6mo_Total'\n",
    "        ]]\n",
    "df_pp_select = df_pp[[\n",
    "        id_name, \n",
    "        'Tot_P_M', \n",
    "        'Tot_P_F', \n",
    "        'Tot_P_P', \n",
    "        'Age_0_4_yr_P', \n",
    "        'Age_5_14_yr_P', \n",
    "        'Age_15_19_yr_P', \n",
    "        'Age_20_24_yr_P', \n",
    "        'Age_25_34_yr_P', \n",
    "        'Age_35_44_yr_P', \n",
    "        'Age_45_54_yr_P', \n",
    "        'Age_55_64_yr_P', \n",
    "        'Age_65_74_yr_P', \n",
    "        'Age_75_84_yr_P', \n",
    "        'Age_85ov_P'\n",
    "        ]]\n",
    "df_work_select = df_work[[\n",
    "        id_name,\n",
    "        'P_Emp_FullT_Tot',\n",
    "        'P_Emp_PartT_Tot',\n",
    "        'P_Emp_awy_f_wrk_Tot',\n",
    "        'P_Hours_wkd_NS_Tot',\n",
    "        'P_Tot_Unemp_Tot'\n",
    "        ]]\n",
    "# log.info(\"Combine to produce the final dataset\")\n",
    "df_final = df_hh_select2.merge(df_hh_select.merge(df_pp_select.merge(df_work_select, how='inner', on=id_name), how='inner', on=id_name), how='inner', on=id_name)\n",
    "df_final[\"STATE_CODE_2016\"] = 2\n",
    "df_final[\"P_Emp_Guess_Casual_Tot\"] = df_final[[\"P_Emp_awy_f_wrk_Tot\", \"P_Hours_wkd_NS_Tot\"]].sum(axis=1)"
   ]
  },
  {
   "cell_type": "code",
   "execution_count": 14,
   "id": "07b38363",
   "metadata": {},
   "outputs": [],
   "source": [
    "df_final.to_csv(f'outputs/controls_total_{area_lev}.csv', index=False)"
   ]
  },
  {
   "cell_type": "code",
   "execution_count": null,
   "id": "aecd4bcd",
   "metadata": {},
   "outputs": [],
   "source": []
  }
 ],
 "metadata": {
  "kernelspec": {
   "display_name": "Python 3 (ipykernel)",
   "language": "python",
   "name": "python3"
  },
  "language_info": {
   "codemirror_mode": {
    "name": "ipython",
    "version": 3
   },
   "file_extension": ".py",
   "mimetype": "text/x-python",
   "name": "python",
   "nbconvert_exporter": "python",
   "pygments_lexer": "ipython3",
   "version": "3.10.6"
  },
  "vscode": {
   "interpreter": {
    "hash": "b5ce158c5ae8cac738d145ab2a998f3ae76517efee1fbfe648ad158109b6bf4d"
   }
  }
 },
 "nbformat": 4,
 "nbformat_minor": 5
}
